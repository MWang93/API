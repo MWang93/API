{
 "cells": [
  {
   "cell_type": "code",
   "execution_count": null,
   "metadata": {},
   "outputs": [],
   "source": [
    "import json, requests\n",
    "url = 'https://api.foursquare.com/v2/venues/explore'\n",
    "\n",
    "params = dict(\n",
    "  client_id='client_id',\n",
    "  client_secret='secret',\n",
    "  v='20180704',\n",
    "  ll='40.7243,-74.0018',\n",
    "  query='coffee',\n",
    "  limit=2\n",
    ")\n",
    "resp = requests.get(url=url, params=params)\n",
    "data = json.loads(resp.text)"
   ]
  },
  {
   "cell_type": "code",
   "execution_count": 171,
   "metadata": {},
   "outputs": [],
   "source": [
    "def get_all_keys_in_dict(dct, prefix='', keys=set()):\n",
    "    for k in dct:\n",
    "        if type(dct[k]) in [str, int, float, bool, list] or dct[k] is None:\n",
    "            keys.add('%s%s' % (prefix, k))\n",
    "        else:\n",
    "            get_all_keys_in_dict(dct[k], prefix=prefix + '%s-' % k, keys=keys)\n",
    "    return keys"
   ]
  },
  {
   "cell_type": "code",
   "execution_count": 146,
   "metadata": {},
   "outputs": [
    {
     "data": {
      "text/plain": [
       "{'meta-code',\n",
       " 'meta-requestId',\n",
       " 'response-groups',\n",
       " 'response-headerFullLocation',\n",
       " 'response-headerLocation',\n",
       " 'response-headerLocationGranularity',\n",
       " 'response-query',\n",
       " 'response-suggestedBounds-ne-lat',\n",
       " 'response-suggestedBounds-ne-lng',\n",
       " 'response-suggestedBounds-sw-lat',\n",
       " 'response-suggestedBounds-sw-lng',\n",
       " 'response-suggestedFilters-filters',\n",
       " 'response-suggestedFilters-header',\n",
       " 'response-suggestedRadius',\n",
       " 'response-totalResults',\n",
       " 'response-warning-text'}"
      ]
     },
     "execution_count": 146,
     "metadata": {},
     "output_type": "execute_result"
    }
   ],
   "source": [
    "get_all_keys_in_dict(data)"
   ]
  },
  {
   "cell_type": "code",
   "execution_count": 168,
   "metadata": {},
   "outputs": [
    {
     "data": {
      "text/plain": [
       "{'reasons': {'count': 0,\n",
       "  'items': [{'summary': 'This spot is popular',\n",
       "    'type': 'general',\n",
       "    'reasonName': 'globalInteractionReason'}]},\n",
       " 'venue': {'id': '45e98bacf964a52080431fe3',\n",
       "  'name': 'MarieBelle',\n",
       "  'location': {'address': '484 Broome St',\n",
       "   'crossStreet': 'btwn W Broadway & Wooster St',\n",
       "   'lat': 40.72310132633388,\n",
       "   'lng': -74.00247749675871,\n",
       "   'labeledLatLngs': [{'label': 'display',\n",
       "     'lat': 40.72310132633388,\n",
       "     'lng': -74.00247749675871}],\n",
       "   'distance': 145,\n",
       "   'postalCode': '10013',\n",
       "   'cc': 'US',\n",
       "   'city': 'New York',\n",
       "   'state': 'NY',\n",
       "   'country': 'United States',\n",
       "   'formattedAddress': ['484 Broome St (btwn W Broadway & Wooster St)',\n",
       "    'New York, NY 10013',\n",
       "    'United States']},\n",
       "  'categories': [{'id': '4bf58dd8d48988d1d0941735',\n",
       "    'name': 'Dessert Shop',\n",
       "    'pluralName': 'Dessert Shops',\n",
       "    'shortName': 'Desserts',\n",
       "    'icon': {'prefix': 'https://ss3.4sqi.net/img/categories_v2/food/dessert_',\n",
       "     'suffix': '.png'},\n",
       "    'primary': True}],\n",
       "  'delivery': {'id': '488596',\n",
       "   'url': 'https://www.seamless.com/menu/marie-belle-new-york-484-broome-st-new-york/488596?affiliate=1131&utm_source=foursquare-affiliate-network&utm_medium=affiliate&utm_campaign=1131&utm_content=488596',\n",
       "   'provider': {'name': 'seamless',\n",
       "    'icon': {'prefix': 'https://igx.4sqi.net/img/general/cap/',\n",
       "     'sizes': [40, 50],\n",
       "     'name': '/delivery_provider_seamless_20180129.png'}}},\n",
       "  'photos': {'count': 0, 'groups': []},\n",
       "  'venuePage': {'id': '81170724'}},\n",
       " 'referralId': 'e-0-45e98bacf964a52080431fe3-0'}"
      ]
     },
     "execution_count": 168,
     "metadata": {},
     "output_type": "execute_result"
    }
   ],
   "source": [
    "data['response']['groups'][0]['items'][0]"
   ]
  },
  {
   "cell_type": "code",
   "execution_count": 173,
   "metadata": {
    "scrolled": false
   },
   "outputs": [
    {
     "data": {
      "text/plain": [
       "{'reasons-count',\n",
       " 'reasons-items',\n",
       " 'referralId',\n",
       " 'venue-categories',\n",
       " 'venue-delivery-id',\n",
       " 'venue-delivery-provider-icon-name',\n",
       " 'venue-delivery-provider-icon-prefix',\n",
       " 'venue-delivery-provider-icon-sizes',\n",
       " 'venue-delivery-provider-name',\n",
       " 'venue-delivery-url',\n",
       " 'venue-id',\n",
       " 'venue-location-address',\n",
       " 'venue-location-cc',\n",
       " 'venue-location-city',\n",
       " 'venue-location-country',\n",
       " 'venue-location-crossStreet',\n",
       " 'venue-location-distance',\n",
       " 'venue-location-formattedAddress',\n",
       " 'venue-location-labeledLatLngs',\n",
       " 'venue-location-lat',\n",
       " 'venue-location-lng',\n",
       " 'venue-location-postalCode',\n",
       " 'venue-location-state',\n",
       " 'venue-name',\n",
       " 'venue-photos-count',\n",
       " 'venue-photos-groups',\n",
       " 'venue-venuePage-id'}"
      ]
     },
     "execution_count": 173,
     "metadata": {},
     "output_type": "execute_result"
    }
   ],
   "source": [
    "get_all_keys_in_dict(data['response']['groups'][0]['items'][0])"
   ]
  }
 ],
 "metadata": {
  "kernelspec": {
   "display_name": "Python 3",
   "language": "python",
   "name": "python3"
  },
  "language_info": {
   "codemirror_mode": {
    "name": "ipython",
    "version": 3
   },
   "file_extension": ".py",
   "mimetype": "text/x-python",
   "name": "python",
   "nbconvert_exporter": "python",
   "pygments_lexer": "ipython3",
   "version": "3.6.5"
  }
 },
 "nbformat": 4,
 "nbformat_minor": 2
}
